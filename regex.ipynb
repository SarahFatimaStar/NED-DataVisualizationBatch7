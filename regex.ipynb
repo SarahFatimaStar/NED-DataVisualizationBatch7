{
 "cells": [
  {
   "cell_type": "code",
   "execution_count": null,
   "id": "9c62247e-896a-4bd5-8dac-ba28fd123ac6",
   "metadata": {},
   "outputs": [],
   "source": [
    "/t = tab\n",
    "/n = new line\n",
    "\n"
   ]
  },
  {
   "cell_type": "markdown",
   "id": "2a70fb3b-2a21-44ee-bb71-65ae98751704",
   "metadata": {},
   "source": [
    "import re"
   ]
  },
  {
   "cell_type": "code",
   "execution_count": 22,
   "id": "740311b1-30da-4c58-bd6d-51cdacd3175a",
   "metadata": {},
   "outputs": [
    {
     "name": "stdout",
     "output_type": "stream",
     "text": [
      "['p', 'p']\n",
      "['p', 'a', 'k', 'i', 's', 't', 'a', 'n', ' ', 'Z', 'i', 'n', 'd', 'a', 'b', 'a', '1', '2', '3', ' ', '4', '5', '6', ' ', '7', '8', '9', '5', ' ', 'm', '.', 'q', 'a', 's', 'i', 'm', '.', '9', '@', 'g', 'm', 'a', 'i', 'l', '.', 'c', 'o', 'm', 'p', 'a', 'n', 'a', 'c', 'l', 'o', 'u', 'd', 'n', 'e', 'd', ' ', 'z', 'i', 'n', 'd', 'a', 'b', 'a', 'd']\n"
     ]
    }
   ],
   "source": [
    "text = \"\"\"pakistan Zindaba\n",
    "123 456 7895 \n",
    "m.qasim.9@gmail.com\n",
    "panacloud\n",
    "ned zindabad\"\"\"\n",
    "\n",
    "data = re.findall(\"p\",text,re.IGNORECASE) #findall function finds all and search finds\n",
    "print(data)\n",
    "\n",
    "data = re.findall(\".\",text,re.IGNORECASE) # . mean anything except \\n(newline)\n",
    "print(data)"
   ]
  },
  {
   "cell_type": "code",
   "execution_count": 23,
   "id": "df57cdd0-11ff-43d8-a7f5-a0d9dda49fa6",
   "metadata": {},
   "outputs": [
    {
     "name": "stdout",
     "output_type": "stream",
     "text": [
      "['pa', 'pa']\n"
     ]
    }
   ],
   "source": [
    "data = re.findall('pa',text)\n",
    "print(data)"
   ]
  },
  {
   "cell_type": "code",
   "execution_count": 24,
   "id": "21927da4-99da-476e-917b-53c7cf4cc315",
   "metadata": {},
   "outputs": [
    {
     "name": "stdout",
     "output_type": "stream",
     "text": [
      "['pak', 'pan']\n"
     ]
    }
   ],
   "source": [
    "data = re.findall('pa.',text) #pa . means anything after pa \n",
    "print(data)"
   ]
  },
  {
   "cell_type": "code",
   "execution_count": 37,
   "id": "8d708f0e-029d-4eba-8aa8-9d3150a40087",
   "metadata": {},
   "outputs": [
    {
     "name": "stdout",
     "output_type": "stream",
     "text": [
      "['zinda']\n"
     ]
    }
   ],
   "source": [
    "text = \"\"\"pakistan Zindaba\n",
    "123 456 7895 \n",
    "m.qasim.9@gmail.com\n",
    "panacloud\n",
    "pin\n",
    "ned zindabad\n",
    "country\n",
    "plan\n",
    "pn\"\"\"\n",
    "\n",
    "data = re.findall('z...a',text) #1st z and 4rth a \n",
    "print(data)"
   ]
  },
  {
   "cell_type": "code",
   "execution_count": 26,
   "id": "ee414020-0ec0-4f91-97f5-b2e75f35694d",
   "metadata": {},
   "outputs": [
    {
     "name": "stdout",
     "output_type": "stream",
     "text": [
      "['pakistan']\n"
     ]
    }
   ],
   "source": [
    "data = re.findall('p......n',text) #1st p and 4th n\n",
    "print(data)"
   ]
  },
  {
   "cell_type": "code",
   "execution_count": 29,
   "id": "75d5cf06-658d-4fbc-b458-87669f0161eb",
   "metadata": {},
   "outputs": [
    {
     "name": "stdout",
     "output_type": "stream",
     "text": [
      "['country']\n"
     ]
    }
   ],
   "source": [
    "data = re.findall('c.....y',text) #1st p and 4th n\n",
    "print(data)"
   ]
  },
  {
   "cell_type": "code",
   "execution_count": 38,
   "id": "c9eb8476-fe9e-44bf-96f8-8f922fc3bb44",
   "metadata": {},
   "outputs": [
    {
     "name": "stdout",
     "output_type": "stream",
     "text": [
      "['pakistan Zin', 'pan', 'pin', 'plan', 'pn']\n"
     ]
    }
   ],
   "source": [
    "data = re.findall('p.*n',text) #isterik mean 0 or many, any character matching until \\n\n",
    "print(data)"
   ]
  },
  {
   "cell_type": "code",
   "execution_count": 39,
   "id": "a839c09d-8d9a-4cef-b80c-e0f4bd24855d",
   "metadata": {},
   "outputs": [
    {
     "name": "stdout",
     "output_type": "stream",
     "text": [
      "['pakistan Zin', 'pan', 'pin', 'plan']\n"
     ]
    }
   ],
   "source": [
    "data = re.findall('p.+n',text) #= mean 1 or many, any character matching until \\n\n",
    "print(data)"
   ]
  },
  {
   "cell_type": "code",
   "execution_count": 46,
   "id": "ee61271d-42af-4560-89c6-5b156a67e39e",
   "metadata": {},
   "outputs": [
    {
     "name": "stdout",
     "output_type": "stream",
     "text": [
      "['p', 'p', 'p', 'p', 'p']\n"
     ]
    }
   ],
   "source": [
    "data = re.findall('p+',text) #+ mean 1 or many, pattern matches for the girven character until \\n\n",
    "print(data)"
   ]
  },
  {
   "cell_type": "code",
   "execution_count": 47,
   "id": "74a69e51-939c-4e43-9365-f08b19b2618e",
   "metadata": {},
   "outputs": [
    {
     "name": "stdout",
     "output_type": "stream",
     "text": [
      "['p', '', '', '', '', '', '', '', '', '', '', '', '', '', '', '', '', '', '', '', '', '', '', '', '', '', '', '', '', '', '', '', '', '', '', '', '', '', '', '', '', '', '', '', '', '', '', '', '', '', '', 'p', '', '', '', '', '', '', '', '', '', 'p', '', '', '', '', '', '', '', '', '', '', '', '', '', '', '', '', '', '', '', '', '', '', '', '', 'p', '', '', '', '', 'p', '', '']\n"
     ]
    }
   ],
   "source": [
    "data = re.findall('p*',text) #+ mean 1 or many, pattern matches for the girven character until \\n\n",
    "print(data)"
   ]
  },
  {
   "cell_type": "markdown",
   "id": "15effe36-0b84-4bfa-932e-08f85466c444",
   "metadata": {},
   "source": [
    "# ^ 1st letter and $ last letter\n"
   ]
  },
  {
   "cell_type": "code",
   "execution_count": 50,
   "id": "cf862f1d-bd65-4584-8f51-07217530bd4b",
   "metadata": {},
   "outputs": [
    {
     "name": "stdout",
     "output_type": "stream",
     "text": [
      "[]\n"
     ]
    }
   ],
   "source": [
    " text = \"\"\"pakistan Zindabad\n",
    "123 456 7895 \n",
    "m.qasim.9@gmail.com\n",
    "panacloud\n",
    "pin\n",
    "ned zindabad\n",
    "country\n",
    "plan\n",
    "pn\"\"\"\n",
    "\n",
    "data = re.findall(\"^p.*d$\", text) #here is is not picking up bcz of multi line so we have to pt re. multiline function\n",
    "print(data)"
   ]
  },
  {
   "cell_type": "code",
   "execution_count": 51,
   "id": "8ae5ae39-011e-4180-afa8-74aec514bef3",
   "metadata": {},
   "outputs": [
    {
     "name": "stdout",
     "output_type": "stream",
     "text": [
      "['pakistan Zindabad', 'panacloud']\n"
     ]
    }
   ],
   "source": [
    " text = \"\"\"pakistan Zindabad\n",
    "123 456 7895 \n",
    "m.qasim.9@gmail.com\n",
    "panacloud\n",
    "pin\n",
    "ned zindabad\n",
    "country\n",
    "plan\n",
    "pn\"\"\"\n",
    "\n",
    "data = re.findall(\"^p.*d$\", text, re.MULTILINE) #here is is not picking up bcz of multi line so we have to pt re. multiline function\n",
    "print(data)\n"
   ]
  },
  {
   "cell_type": "code",
   "execution_count": 54,
   "id": "1bae6b35-8b70-4fdf-afa9-c9a1a015b2ee",
   "metadata": {},
   "outputs": [
    {
     "name": "stdout",
     "output_type": "stream",
     "text": [
      "['haaaaaa']\n"
     ]
    }
   ],
   "source": [
    "\n",
    "text = \"\"\"hello world\n",
    "haaaaaa\n",
    "\"\"\"\n",
    "data = re.findall(\"^h.*a$\", text, re.MULTILINE) \n",
    "print(data)"
   ]
  },
  {
   "cell_type": "markdown",
   "id": "0142b127-8f6d-4d1e-acaf-d6ff8cb55e23",
   "metadata": {},
   "source": [
    "# ? a letter before ? is optional\n",
    "\n"
   ]
  },
  {
   "cell_type": "code",
   "execution_count": 57,
   "id": "5d325d2d-4ed3-4a5d-95e9-72c5216647ba",
   "metadata": {},
   "outputs": [],
   "source": [
    " text = \"\"\"pakistan Zindabad\n",
    "123 456 7895 \n",
    "m.qasim.9@gmail.com\n",
    "panacloud\n",
    "pin\n",
    "ned zindabad\n",
    "country\n",
    "plan\n",
    "pn\"\"\"\n",
    "\n"
   ]
  },
  {
   "cell_type": "code",
   "execution_count": 58,
   "id": "00931f1c-0bed-4301-80ad-b6901c5f96f5",
   "metadata": {},
   "outputs": [
    {
     "name": "stdout",
     "output_type": "stream",
     "text": [
      "['pak', 'pa', 'pi', 'pl', 'pn']\n"
     ]
    }
   ],
   "source": [
    "data = re.findall(\"p.k?\", text)  \n",
    "print(data)"
   ]
  },
  {
   "cell_type": "code",
   "execution_count": 59,
   "id": "a6c5ce26-0ddb-4d5f-acc2-8ae4066c2c31",
   "metadata": {},
   "outputs": [
    {
     "name": "stdout",
     "output_type": "stream",
     "text": [
      "['pa', 'pan', 'pin', 'pl', 'pn']\n"
     ]
    }
   ],
   "source": [
    "data = re.findall(\"p.n?\", text)  \n",
    "print(data)"
   ]
  },
  {
   "cell_type": "code",
   "execution_count": 60,
   "id": "a0f0a889-b081-4fe8-85c9-2a5f106ec40d",
   "metadata": {},
   "outputs": [
    {
     "name": "stdout",
     "output_type": "stream",
     "text": [
      "['pakistan Zindabad', 'panacloud', 'pin', 'plan', 'pn']\n"
     ]
    }
   ],
   "source": [
    "data = re.findall(\"p.*n?\", text)  \n",
    "print(data)"
   ]
  },
  {
   "cell_type": "code",
   "execution_count": 69,
   "id": "8bad726c-ea97-4056-9ac3-7442f4dba146",
   "metadata": {},
   "outputs": [
    {
     "name": "stdout",
     "output_type": "stream",
     "text": [
      "['<h1> This is heading </h1>']\n"
     ]
    }
   ],
   "source": [
    "text = \"\"\"<h1> This is heading </h1>\"\"\"\n",
    "pattern = \"<h1>.*</h1>\"\n",
    "data = re.findall(pattern, text, re.MULTILINE)\n",
    "print(data)"
   ]
  },
  {
   "cell_type": "markdown",
   "id": "95316c60-6089-41f2-9e72-968276f41ec5",
   "metadata": {},
   "source": [
    "# curly bracket {} repetetion"
   ]
  },
  {
   "cell_type": "code",
   "execution_count": 74,
   "id": "8c1a5bba-65d7-4cbd-88a7-6e80b7e5d5c5",
   "metadata": {},
   "outputs": [
    {
     "name": "stdout",
     "output_type": "stream",
     "text": [
      "['ppp p', 'pp pp', 'pp pp', 'ppp p']\n"
     ]
    }
   ],
   "source": [
    "text = \"\"\"ppp ppp pppp ppppp ppppp\"\"\"\n",
    "data = re.findall(\"p.{4}\", text,)\n",
    "print(data)"
   ]
  },
  {
   "cell_type": "code",
   "execution_count": null,
   "id": "cf126410-9b83-4d3d-8fbf-4315f428dda6",
   "metadata": {},
   "outputs": [],
   "source": []
  },
  {
   "cell_type": "code",
   "execution_count": null,
   "id": "4b8a1b29-0ca6-4829-af81-ae1b2c858a00",
   "metadata": {},
   "outputs": [],
   "source": []
  }
 ],
 "metadata": {
  "kernelspec": {
   "display_name": "Python 3 (ipykernel)",
   "language": "python",
   "name": "python3"
  },
  "language_info": {
   "codemirror_mode": {
    "name": "ipython",
    "version": 3
   },
   "file_extension": ".py",
   "mimetype": "text/x-python",
   "name": "python",
   "nbconvert_exporter": "python",
   "pygments_lexer": "ipython3",
   "version": "3.11.7"
  }
 },
 "nbformat": 4,
 "nbformat_minor": 5
}
